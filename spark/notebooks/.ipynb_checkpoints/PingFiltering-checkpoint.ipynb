{
 "cells": [
  {
   "cell_type": "code",
   "execution_count": 1,
   "metadata": {},
   "outputs": [],
   "source": [
    "from new_gps_spark_logic import GpsPingFilter"
   ]
  },
  {
   "cell_type": "code",
   "execution_count": 2,
   "metadata": {},
   "outputs": [],
   "source": [
    "gpf = GpsPingFilter()"
   ]
  },
  {
   "cell_type": "code",
   "execution_count": 3,
   "metadata": {},
   "outputs": [
    {
     "name": "stdout",
     "output_type": "stream",
     "text": [
      "init_spark called\n",
      "('setting master to: ', 'spark://172.25.0.09:7077')\n"
     ]
    }
   ],
   "source": [
    "gpf.init_spark()"
   ]
  },
  {
   "cell_type": "code",
   "execution_count": 4,
   "metadata": {},
   "outputs": [
    {
     "name": "stdout",
     "output_type": "stream",
     "text": [
      "['/opt/spark/sample_data/daily-feed/US/20200810*/*.csv.gz', '/opt/spark/sample_data/daily-feed/US/20200809*/*.csv.gz', '/opt/spark/sample_data/daily-feed/US/20200808*/*.csv.gz']\n",
      "Number of partitions 48\n",
      "\n",
      "Running the following date(s) (1 total):\n",
      "   08/09/20\n",
      "\n",
      "1,885,129 pings loaded for analysis\n"
     ]
    }
   ],
   "source": [
    "gpf.load_daily_feed('local','2020-08-09')"
   ]
  },
  {
   "cell_type": "code",
   "execution_count": 5,
   "metadata": {},
   "outputs": [
    {
     "name": "stdout",
     "output_type": "stream",
     "text": [
      "\n",
      "_______________________________________________\n",
      "JUNK FILTER\n",
      "\n",
      "\n",
      "fnl_df complete junk_filter\n",
      "Phase            Ping Count    Removed Pings    Percent Reduction  Description\n",
      "-------------  ------------  ---------------  -------------------  -----------------------------------------------------------------------------\n",
      "Initial count            -1                0                 0.00  Count of pings before junk filtering process\n",
      "Null values              -1                0                -0.00  Empty values among latitude, longitude, accuracy, timestamp, tz offset\n",
      "Duplicates               -1                0                -0.00  Records with duplicate device_id and utc_timestamps\n",
      "Accuracy                 -1                0                -0.00  Horizontal accuracy values exceeding safe thresholds (outside of 5 - 65)\n",
      "Coordinates              -1                0                -0.00  Pings occurring outside bounding rectangles of the continental US, AK, and HI\n",
      "Study date(s)            -1                0                -0.00  Pings occuring outside the study date range when tz_offset is applied\n",
      "Final count              -1                0                -0.00  Count of pings after junk filtering process\n",
      "junk_filter time ms: 380\n"
     ]
    }
   ],
   "source": [
    "gpf.junk_filter(should_count=True)"
   ]
  },
  {
   "cell_type": "code",
   "execution_count": 1,
   "metadata": {},
   "outputs": [
    {
     "ename": "NameError",
     "evalue": "name 'gpf' is not defined",
     "output_type": "error",
     "traceback": [
      "\u001b[0;31m\u001b[0m",
      "\u001b[0;31mNameError\u001b[0mTraceback (most recent call last)",
      "\u001b[0;32m<ipython-input-1-96267c09f366>\u001b[0m in \u001b[0;36m<module>\u001b[0;34m()\u001b[0m\n\u001b[0;32m----> 1\u001b[0;31m \u001b[0mgpf\u001b[0m\u001b[0;34m.\u001b[0m\u001b[0mspeed_filter\u001b[0m\u001b[0;34m(\u001b[0m\u001b[0;34m)\u001b[0m\u001b[0;34m\u001b[0m\u001b[0m\n\u001b[0m",
      "\u001b[0;31mNameError\u001b[0m: name 'gpf' is not defined"
     ]
    }
   ],
   "source": [
    "gpf.speed_filter()"
   ]
  },
  {
   "cell_type": "code",
   "execution_count": 2,
   "metadata": {},
   "outputs": [
    {
     "ename": "NameError",
     "evalue": "name 'gpf' is not defined",
     "output_type": "error",
     "traceback": [
      "\u001b[0;31m\u001b[0m",
      "\u001b[0;31mNameError\u001b[0mTraceback (most recent call last)",
      "\u001b[0;32m<ipython-input-2-ffdb8662a66a>\u001b[0m in \u001b[0;36m<module>\u001b[0;34m()\u001b[0m\n\u001b[0;32m----> 1\u001b[0;31m \u001b[0mgpf\u001b[0m\u001b[0;34m.\u001b[0m\u001b[0mlinear_filter\u001b[0m\u001b[0;34m(\u001b[0m\u001b[0;34m)\u001b[0m\u001b[0;34m\u001b[0m\u001b[0m\n\u001b[0m",
      "\u001b[0;31mNameError\u001b[0m: name 'gpf' is not defined"
     ]
    }
   ],
   "source": [
    "gpf.linear_filter()"
   ]
  },
  {
   "cell_type": "code",
   "execution_count": 3,
   "metadata": {},
   "outputs": [
    {
     "ename": "NameError",
     "evalue": "name 'gpf' is not defined",
     "output_type": "error",
     "traceback": [
      "\u001b[0;31m\u001b[0m",
      "\u001b[0;31mNameError\u001b[0mTraceback (most recent call last)",
      "\u001b[0;32m<ipython-input-3-920c3df21d17>\u001b[0m in \u001b[0;36m<module>\u001b[0;34m()\u001b[0m\n\u001b[0;32m----> 1\u001b[0;31m \u001b[0mgpf\u001b[0m\u001b[0;34m.\u001b[0m\u001b[0mwrite_results\u001b[0m\u001b[0;34m(\u001b[0m\u001b[0;34m\"/opt/spark/sample_data/daily-feed-reduced/US/\"\u001b[0m\u001b[0;34m,\u001b[0m \u001b[0;36m5\u001b[0m\u001b[0;34m)\u001b[0m\u001b[0;34m\u001b[0m\u001b[0m\n\u001b[0m",
      "\u001b[0;31mNameError\u001b[0m: name 'gpf' is not defined"
     ]
    }
   ],
   "source": [
    "gpf.write_results(\"/opt/spark/sample_data/daily-feed-reduced/US/\", 5)"
   ]
  },
  {
   "cell_type": "code",
   "execution_count": null,
   "metadata": {},
   "outputs": [],
   "source": [
    "source = 's3'\n",
    "print(source == 's3')"
   ]
  },
  {
   "cell_type": "code",
   "execution_count": null,
   "metadata": {},
   "outputs": [],
   "source": []
  }
 ],
 "metadata": {
  "kernelspec": {
   "display_name": "Python 2",
   "language": "python",
   "name": "python2"
  },
  "language_info": {
   "codemirror_mode": {
    "name": "ipython",
    "version": 2
   },
   "file_extension": ".py",
   "mimetype": "text/x-python",
   "name": "python",
   "nbconvert_exporter": "python",
   "pygments_lexer": "ipython2",
   "version": "2.7.17"
  }
 },
 "nbformat": 4,
 "nbformat_minor": 2
}
