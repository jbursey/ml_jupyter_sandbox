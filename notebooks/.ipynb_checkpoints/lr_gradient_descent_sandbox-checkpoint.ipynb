{
 "cells": [
  {
   "cell_type": "code",
   "execution_count": 1,
   "metadata": {},
   "outputs": [],
   "source": [
    "%config IPCompleter.greedy=True"
   ]
  },
  {
   "cell_type": "code",
   "execution_count": 2,
   "metadata": {},
   "outputs": [],
   "source": [
    "from IPython.display import clear_output, display\n",
    "import matplotlib.pyplot as plt\n",
    "import numpy as np\n",
    "import pandas as pandas"
   ]
  },
  {
   "cell_type": "code",
   "execution_count": 3,
   "metadata": {},
   "outputs": [],
   "source": [
    "data = pandas.read_csv(\"./sample_fake_lienar_data.csv\", \",\")"
   ]
  },
  {
   "cell_type": "code",
   "execution_count": 4,
   "metadata": {},
   "outputs": [
    {
     "data": {
      "text/html": [
       "<div>\n",
       "<style scoped>\n",
       "    .dataframe tbody tr th:only-of-type {\n",
       "        vertical-align: middle;\n",
       "    }\n",
       "\n",
       "    .dataframe tbody tr th {\n",
       "        vertical-align: top;\n",
       "    }\n",
       "\n",
       "    .dataframe thead th {\n",
       "        text-align: right;\n",
       "    }\n",
       "</style>\n",
       "<table border=\"1\" class=\"dataframe\">\n",
       "  <thead>\n",
       "    <tr style=\"text-align: right;\">\n",
       "      <th></th>\n",
       "      <th>number</th>\n",
       "      <th>value</th>\n",
       "    </tr>\n",
       "  </thead>\n",
       "  <tbody>\n",
       "    <tr>\n",
       "      <th>0</th>\n",
       "      <td>-50</td>\n",
       "      <td>-52</td>\n",
       "    </tr>\n",
       "    <tr>\n",
       "      <th>1</th>\n",
       "      <td>-49</td>\n",
       "      <td>-49</td>\n",
       "    </tr>\n",
       "    <tr>\n",
       "      <th>2</th>\n",
       "      <td>-48</td>\n",
       "      <td>-48</td>\n",
       "    </tr>\n",
       "    <tr>\n",
       "      <th>3</th>\n",
       "      <td>-47</td>\n",
       "      <td>-46</td>\n",
       "    </tr>\n",
       "    <tr>\n",
       "      <th>4</th>\n",
       "      <td>-46</td>\n",
       "      <td>-44</td>\n",
       "    </tr>\n",
       "  </tbody>\n",
       "</table>\n",
       "</div>"
      ],
      "text/plain": [
       "   number  value\n",
       "0     -50    -52\n",
       "1     -49    -49\n",
       "2     -48    -48\n",
       "3     -47    -46\n",
       "4     -46    -44"
      ]
     },
     "execution_count": 4,
     "metadata": {},
     "output_type": "execute_result"
    }
   ],
   "source": [
    "data.head()"
   ]
  },
  {
   "cell_type": "code",
   "execution_count": 5,
   "metadata": {},
   "outputs": [],
   "source": [
    "ones = np.ones((data.iloc[:,0].size, 1))"
   ]
  },
  {
   "cell_type": "code",
   "execution_count": null,
   "metadata": {},
   "outputs": [],
   "source": []
  },
  {
   "cell_type": "code",
   "execution_count": 6,
   "metadata": {},
   "outputs": [],
   "source": [
    "data_ones = np.append(ones, data, axis=1)"
   ]
  },
  {
   "cell_type": "code",
   "execution_count": 7,
   "metadata": {},
   "outputs": [],
   "source": [
    "#data.columns.size\n",
    "X = data_ones[:,0:data_ones[0].size - 1]\n",
    "Y = data_ones[:,data_ones[0].size-1]"
   ]
  },
  {
   "cell_type": "code",
   "execution_count": 8,
   "metadata": {},
   "outputs": [
    {
     "name": "stdout",
     "output_type": "stream",
     "text": [
      "[[  1. -50.]\n",
      " [  1. -49.]\n",
      " [  1. -48.]\n",
      " [  1. -47.]\n",
      " [  1. -46.]]\n"
     ]
    }
   ],
   "source": [
    "print(X[0:5,:])"
   ]
  },
  {
   "cell_type": "code",
   "execution_count": 9,
   "metadata": {},
   "outputs": [
    {
     "name": "stdout",
     "output_type": "stream",
     "text": [
      "[-52. -49. -48. -46. -44.]\n"
     ]
    }
   ],
   "source": [
    "print(Y[0:5])"
   ]
  },
  {
   "cell_type": "code",
   "execution_count": 10,
   "metadata": {},
   "outputs": [],
   "source": [
    "def gd(X, Y, iters = 1000, lr = 0.000001):\n",
    "    # we are minimizing the function MSE = (Y - Y^)^2\n",
    "    # let Y = predictor\n",
    "    # let Y^_i = w0x0 + w1x1 + w2x2 + ... + wnxn\n",
    "    # lets define a cost function J to = the partial derivative of Y with respect to Y^\n",
    "    # we can break this up with math like the following\n",
    "    # J = (pdY / pdY^ ) * (pdY^ / pdw)\n",
    "    # (pdY / pdY^) = 2(Y - Y^) * (-1)\n",
    "    # (pdY^ / pdw) = x_i\n",
    "    # finally our cost function J = 2 (Y - Y^) * (-X)\n",
    "    # ^^^ is the vectorized form of all X. We can use sigma notation like the below\n",
    "    # J = (sigma from 0-n) (Yi -Y^i) * (-Xi) \n",
    "    \n",
    "    # gradient decent\n",
    "    # w = lr*cost + w\n",
    "    \n",
    "    w = np.random.rand(X[0].size)    \n",
    "    costs = []\n",
    "    \n",
    "    index = 0;\n",
    "    while(index < iters):\n",
    "        Y_hat = X.dot(w)                \n",
    "        delta = Y - Y_hat;                    \n",
    "    \n",
    "        step = X.T.dot(delta)\n",
    "        \n",
    "        #take a step in the direction of the gradient\n",
    "        w = (lr * step) + w;\n",
    "        \n",
    "        cost = (delta).dot(delta)        \n",
    "        costs.append(cost);\n",
    "\n",
    "        if(index % 100 == 0):\n",
    "            clear_output(wait=True);\n",
    "            print(index, cost);\n",
    "        \n",
    "        index = index + 1;        \n",
    "    \n",
    "    #plt.plot(costs);\n",
    "    plt.plot(costs, label='Costs');\n",
    "    plt.legend();\n",
    "    plt.figure();\n",
    "    plt.plot(Y, label=\"Y\");\n",
    "    plt.plot(Y_hat, label=\"Y_hat\");\n",
    "    plt.legend();\n",
    "    \n",
    "    print (w)\n",
    "    \n",
    "    return;"
   ]
  },
  {
   "cell_type": "code",
   "execution_count": 11,
   "metadata": {},
   "outputs": [
    {
     "name": "stdout",
     "output_type": "stream",
     "text": [
      "900 506.07827191683407\n",
      "[0.95498254 0.98942775]\n"
     ]
    },
    {
     "data": {
      "image/png": "[encoded data removed]",
      "text/plain": [
       "<Figure size 432x288 with 1 Axes>"
      ]
     },
     "metadata": {
      "needs_background": "light"
     },
     "output_type": "display_data"
    },
    {
     "data": {
      "image/png": "[encoded data removed]",
      "text/plain": [
       "<Figure size 432x288 with 1 Axes>"
      ]
     },
     "metadata": {
      "needs_background": "light"
     },
     "output_type": "display_data"
    }
   ],
   "source": [
    "gd(X,Y, 1000, 0.00000001)"
   ]
  },
  {
   "cell_type": "code",
   "execution_count": 126,
   "metadata": {},
   "outputs": [],
   "source": [
    "def sgd(X, Y, iters = 1000, lr = 0.000001, log_freq = 10):\n",
    "    w = np.random.rand(X[0].size);\n",
    "    index = 0;\n",
    "    costs = []\n",
    "    while(index < iters):        \n",
    "        i = (np.random.rand() * X[:,0].size) % X[:,0].size;\n",
    "        i = int(i)        \n",
    "        \n",
    "        # get a random sample of X and Y\n",
    "        x = X[i];\n",
    "        y = Y[i];\n",
    "        yhat = x.dot(w);                \n",
    "        \n",
    "        # calculate the gradient on that random sample\n",
    "        gradient = (y - yhat)*(-x);        \n",
    "        \n",
    "        # perform gradient descent\n",
    "        w = w - (lr * gradient);\n",
    "\n",
    "        # updat emetrics\n",
    "        Yhat = X.dot(w);\n",
    "        cost = (Y-Yhat).dot(Y-Yhat)\n",
    "        costs.append(cost)\n",
    "        \n",
    "        if((index % log_freq) == 0):\n",
    "\n",
    "            #print(\"y: {0} yhat: {1}\".format(y, yhat))\n",
    "            print(\"y: {} yhat: {} x: {} w: {} cost: {} gradient: {}\".format(y, yhat, x, w, cost, gradient))\n",
    "            #print(\"index: {0} cost: {1} gradient: {2} w: {3} i: {4}\".format(index, cost, gradient, w, i))\n",
    "        \n",
    "        index = index + 1;\n",
    "    print(w);\n",
    "    Yhat = X.dot(w);\n",
    "    plt.plot(costs);\n",
    "    plt.figure();\n",
    "    plt.plot(Y, label='Y')\n",
    "    plt.plot(Yhat, label='Yhat')"
   ]
  },
  {
   "cell_type": "code",
   "execution_count": 129,
   "metadata": {},
   "outputs": [
    {
     "name": "stdout",
     "output_type": "stream",
     "text": [
      "y: 38.0 yhat: 13.49492027252342 x: [ 1. 38.] w: [0.50883656 0.43492284] cost: 224447.39874573553 gradient: [ -24.50507973 -931.19302964]\n",
      "[0.46963708 0.98321404]\n"
     ]
    },
    {
     "data": {
      "image/png": "[encoded data removed]",
      "text/plain": [
       "<Figure size 432x288 with 1 Axes>"
      ]
     },
     "metadata": {
      "needs_background": "light"
     },
     "output_type": "display_data"
    },
    {
     "data": {
      "image/png": "[encoded data removed]",
      "text/plain": [
       "<Figure size 432x288 with 1 Axes>"
      ]
     },
     "metadata": {
      "needs_background": "light"
     },
     "output_type": "display_data"
    }
   ],
   "source": [
    "sgd(X, Y, 1000, 0.0001, 10000000)"
   ]
  },
  {
   "cell_type": "code",
   "execution_count": 97,
   "metadata": {},
   "outputs": [],
   "source": [
    "def mbgd(X, Y, iters = 1000, lr = 0.000001, batch_size = 5, log_freq = 10):\n",
    "    w = np.random.rand(X[0].size);\n",
    "    index = 0;\n",
    "    while(index < iters):        \n",
    "        i = ((np.random.rand() * 100000000) % X[:,0].size);\n",
    "        i = int(i)        \n",
    "        \n",
    "        # get a random sample of X and Y\n",
    "        x = X[i:batch_size];\n",
    "        y = Y[i:batch_size];\n",
    "        yhat = x.dot(w);        \n",
    "        \n",
    "        \n",
    "        # calculate the gradient on that random sample\n",
    "        gradient = (y - yhat).dot(-x)\n",
    "        \n",
    "        # perform gradient descent\n",
    "        w = w + (lr * gradient);\n",
    "        \n",
    "        if((index % log_freq) == 0):\n",
    "            Yhat = X.dot(w);\n",
    "            cost = (Y-Yhat).dot(Y-Yhat)\n",
    "            print(\"index: {0} cost: {1} gradient: {2} w: {3} i: {4}\".format(index, cost, gradient, w, i))\n",
    "        \n",
    "        index = index + 1;\n",
    "    print(w);"
   ]
  },
  {
   "cell_type": "code",
   "execution_count": 98,
   "metadata": {},
   "outputs": [
    {
     "name": "stdout",
     "output_type": "stream",
     "text": [
      "index: 0 cost: 657361.5247206601 gradient: [0. 0.] w: [0.98940641 0.03245237] i: 103\n",
      "index: 100 cost: 657364.6504652287 gradient: [0. 0.] w: [0.98940646 0.03245009] i: 4\n",
      "index: 200 cost: 657374.558386563 gradient: [0. 0.] w: [0.9894066  0.03244287] i: 91\n",
      "index: 300 cost: 657377.6841921855 gradient: [0. 0.] w: [0.98940665 0.0324406 ] i: 113\n",
      "index: 400 cost: 657387.1919160122 gradient: [0. 0.] w: [0.98940679 0.03243367] i: 145\n",
      "index: 500 cost: 657419.7729378687 gradient: [0. 0.] w: [0.98940728 0.03240994] i: 127\n",
      "index: 600 cost: 657429.6816722588 gradient: [0. 0.] w: [0.98940743 0.03240273] i: 49\n",
      "index: 700 cost: 657429.6816722588 gradient: [0. 0.] w: [0.98940743 0.03240273] i: 150\n",
      "index: 800 cost: 657449.0991584385 gradient: [0. 0.] w: [0.98940772 0.03238858] i: 161\n",
      "index: 900 cost: 657472.0438861306 gradient: [0. 0.] w: [0.98940806 0.03237187] i: 16\n",
      "[0.98940845 0.03235308]\n"
     ]
    }
   ],
   "source": [
    "mbgd(X,Y,1000, 0.000000001, 3, 100)"
   ]
  },
  {
   "cell_type": "code",
   "execution_count": null,
   "metadata": {},
   "outputs": [],
   "source": []
  },
  {
   "cell_type": "code",
   "execution_count": null,
   "metadata": {},
   "outputs": [],
   "source": []
  }
 ],
 "metadata": {
  "kernelspec": {
   "display_name": "Python 3",
   "language": "python",
   "name": "python3"
  },
  "language_info": {
   "codemirror_mode": {
    "name": "ipython",
    "version": 3
   },
   "file_extension": ".py",
   "mimetype": "text/x-python",
   "name": "python",
   "nbconvert_exporter": "python",
   "pygments_lexer": "ipython3",
   "version": "3.7.3"
  }
 },
 "nbformat": 4,
 "nbformat_minor": 4
}
