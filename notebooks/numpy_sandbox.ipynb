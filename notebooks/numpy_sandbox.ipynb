{
 "cells": [
  {
   "cell_type": "code",
   "execution_count": 28,
   "metadata": {},
   "outputs": [],
   "source": [
    "import numpy as np"
   ]
  },
  {
   "cell_type": "code",
   "execution_count": 29,
   "metadata": {},
   "outputs": [
    {
     "data": {
      "text/plain": [
       "array([[0.5257213 , 0.58270498],\n",
       "       [0.70772753, 0.18775376],\n",
       "       [0.4287249 , 0.75347804],\n",
       "       [0.48606436, 0.59407384],\n",
       "       [0.03974497, 0.99825311],\n",
       "       [0.47541001, 0.75042248],\n",
       "       [0.77133093, 0.83733198],\n",
       "       [0.35747375, 0.85548348],\n",
       "       [0.21593744, 0.81582131],\n",
       "       [0.19151091, 0.63205915],\n",
       "       [0.19230588, 0.51152362],\n",
       "       [0.0022165 , 0.67281879],\n",
       "       [0.76867867, 0.07318405],\n",
       "       [0.05252914, 0.36759637],\n",
       "       [0.72462135, 0.53074498],\n",
       "       [0.98770005, 0.4586022 ],\n",
       "       [0.13276834, 0.15114655],\n",
       "       [0.62700975, 0.24035356],\n",
       "       [0.52798799, 0.27403374],\n",
       "       [0.85744514, 0.69174866]])"
      ]
     },
     "execution_count": 29,
     "metadata": {},
     "output_type": "execute_result"
    }
   ],
   "source": [
    "X = np.random.rand(20,2)\n",
    "ones = np.ones((20,1))\n",
    "X"
   ]
  },
  {
   "cell_type": "code",
   "execution_count": 30,
   "metadata": {},
   "outputs": [
    {
     "data": {
      "text/plain": [
       "array([[1.        , 0.5257213 , 0.58270498],\n",
       "       [1.        , 0.70772753, 0.18775376],\n",
       "       [1.        , 0.4287249 , 0.75347804],\n",
       "       [1.        , 0.48606436, 0.59407384],\n",
       "       [1.        , 0.03974497, 0.99825311],\n",
       "       [1.        , 0.47541001, 0.75042248],\n",
       "       [1.        , 0.77133093, 0.83733198],\n",
       "       [1.        , 0.35747375, 0.85548348],\n",
       "       [1.        , 0.21593744, 0.81582131],\n",
       "       [1.        , 0.19151091, 0.63205915],\n",
       "       [1.        , 0.19230588, 0.51152362],\n",
       "       [1.        , 0.0022165 , 0.67281879],\n",
       "       [1.        , 0.76867867, 0.07318405],\n",
       "       [1.        , 0.05252914, 0.36759637],\n",
       "       [1.        , 0.72462135, 0.53074498],\n",
       "       [1.        , 0.98770005, 0.4586022 ],\n",
       "       [1.        , 0.13276834, 0.15114655],\n",
       "       [1.        , 0.62700975, 0.24035356],\n",
       "       [1.        , 0.52798799, 0.27403374],\n",
       "       [1.        , 0.85744514, 0.69174866]])"
      ]
     },
     "execution_count": 30,
     "metadata": {},
     "output_type": "execute_result"
    }
   ],
   "source": [
    "Z = np.append(ones, X, axis = 1)\n",
    "Z"
   ]
  },
  {
   "cell_type": "code",
   "execution_count": 20,
   "metadata": {},
   "outputs": [
    {
     "data": {
      "text/plain": [
       "array([[1.],\n",
       "       [1.],\n",
       "       [1.],\n",
       "       [1.],\n",
       "       [1.],\n",
       "       [1.],\n",
       "       [1.],\n",
       "       [1.],\n",
       "       [1.],\n",
       "       [1.],\n",
       "       [1.],\n",
       "       [1.],\n",
       "       [1.],\n",
       "       [1.],\n",
       "       [1.],\n",
       "       [1.],\n",
       "       [1.],\n",
       "       [1.],\n",
       "       [1.],\n",
       "       [1.]])"
      ]
     },
     "execution_count": 20,
     "metadata": {},
     "output_type": "execute_result"
    }
   ],
   "source": [
    "ones"
   ]
  },
  {
   "cell_type": "code",
   "execution_count": null,
   "metadata": {},
   "outputs": [],
   "source": []
  }
 ],
 "metadata": {
  "kernelspec": {
   "display_name": "Python 3",
   "language": "python",
   "name": "python3"
  },
  "language_info": {
   "codemirror_mode": {
    "name": "ipython",
    "version": 3
   },
   "file_extension": ".py",
   "mimetype": "text/x-python",
   "name": "python",
   "nbconvert_exporter": "python",
   "pygments_lexer": "ipython3",
   "version": "3.7.3"
  }
 },
 "nbformat": 4,
 "nbformat_minor": 2
}
