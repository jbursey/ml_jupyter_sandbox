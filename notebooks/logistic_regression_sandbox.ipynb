{
 "cells": [
  {
   "cell_type": "markdown",
   "metadata": {},
   "source": [
    "## Problem\n",
    "Lets toss a coin 5 times and assume we get HHHTT\n",
    "\n",
    "## Generalize\n",
    "Assume that heads is Y and assume tails is 1-Y.\n",
    "Assume that the probability of getting heads is T and the probability of getting tails is 1-T\n",
    "\n",
    "So the general form now looks like\n",
    "\n",
    "$\\prod_{i=1}^{n} (Y^T)*(1-Y)^{1-T}$\n",
    "\n",
    "## Log Likelyhood\n",
    "\n",
    "$\\sum_{i=1}^{n} T*log(Y) + (1-T)*log(1-Y)$\n",
    "\n",
    "## Maximize the Log Likelyhood -- Cross Entropy\n",
    "We negate the log likely hood becase we are going to minimize the cost function using gradient descent. \n",
    "\n",
    "J=$\\sum_{i=1}^{n} -T*log(Y) - (1-T)*log(1-Y)$\n",
    "\n",
    "## Terms\n",
    "T = Actual Known Value\n",
    "\n",
    "Y = Predicted Value\n",
    "\n",
    "Y = $\\frac{1}{1+e^{-a}}$\n",
    "\n",
    "a = $wX$"
   ]
  },
  {
   "cell_type": "markdown",
   "metadata": {},
   "source": [
    "## Partial Derivative Breakdown\n",
    "$\\frac{\\partial J}{\\partial w} = \\frac{\\partial J}{\\partial Y} * \\frac{\\partial Y}{\\partial a} * \\frac{\\partial a}{\\partial w}$\n",
    "\n",
    "$\\frac{\\partial J}{\\partial Y_n} $ = $\\frac{-T_n}{Y_n}$ + ($\\frac{1-T_n}{1-Y_n})(-1)$\n",
    "\n",
    "$\\frac{\\partial Y_n}{\\partial a_n} $ = $\\frac{e^{-a}}{(1+e^{-a})^2}$\n",
    "\n",
    "$\\frac{e^{-a}}{(1+e^{-a})^2}$ = $\\frac{1}{1+e^{-a}}$ * $\\frac{e^{-a}}{1+e^{-a}}$\n",
    "\n",
    "$\\frac{1}{1+e^{-a}}$ * $\\frac{e^{-a}}{1+e^{-a}}$ = $Y_n * (1-Y_n)$\n",
    "\n",
    "$\\frac{\\partial a}{\\partial w_n}$ = $X_n$\n"
   ]
  },
  {
   "cell_type": "markdown",
   "metadata": {},
   "source": [
    "## Multiply it all together\n",
    "\n",
    "$\\frac{\\partial J}{\\partial w_n}$ = ($\\frac{-T_n}{Y_n}$ + ($\\frac{1-T_n}{1-Y_n})(-1)$) * ($Y_n * (1-Y_n)$) *  ($X_n$)\n",
    "\n",
    "$\\frac{\\partial J}{\\partial w_n}$ = ($\\frac{-T_n * (Y_n * (1-Y_n))}{Y_n}$ + ($\\frac{1-T_n * (Y_n * (1-Y_n))}{1-Y_n})(-1)$) * ($X_n$)\n",
    "\n",
    "$\\frac{\\partial J}{\\partial w_n}$ = ($-T_n * (1-Y_n)$ + ($(1-T_n)* Y_n)(-1)$) * ($X_n$)\n",
    "\n",
    "$\\frac{\\partial J}{\\partial w_n}$ = ($-T_n + T_nY_n)$ + $(Y_n-T_nY_n)(-1)$) * ($X_n$)\n",
    "\n",
    "$\\frac{\\partial J}{\\partial w_n}$ = ($T_n - T_nY_n)$ - $(Y_n+T_nY_n)$) * ($X_n$)\n",
    "\n",
    "$\\frac{\\partial J}{\\partial w_n}$ = $(Y_n - T_n)X_n$"
   ]
  },
  {
   "cell_type": "code",
   "execution_count": 3,
   "metadata": {},
   "outputs": [],
   "source": [
    "import matplotlib.pyplot as plt\n",
    "import numpy as np\n",
    "import pandas as pd"
   ]
  },
  {
   "cell_type": "code",
   "execution_count": 6,
   "metadata": {},
   "outputs": [],
   "source": [
    "def classification_rate(T, Y):\n",
    "    return 0"
   ]
  },
  {
   "cell_type": "code",
   "execution_count": 7,
   "metadata": {},
   "outputs": [],
   "source": [
    "def cross_entropy():\n",
    "    return 0"
   ]
  },
  {
   "cell_type": "code",
   "execution_count": 8,
   "metadata": {},
   "outputs": [],
   "source": [
    "def gradient_descent(X, T, iters = 100, lr = 0.002):\n",
    "    return 0"
   ]
  },
  {
   "cell_type": "code",
   "execution_count": null,
   "metadata": {},
   "outputs": [],
   "source": []
  }
 ],
 "metadata": {
  "kernelspec": {
   "display_name": "Python 3",
   "language": "python",
   "name": "python3"
  },
  "language_info": {
   "codemirror_mode": {
    "name": "ipython",
    "version": 3
   },
   "file_extension": ".py",
   "mimetype": "text/x-python",
   "name": "python",
   "nbconvert_exporter": "python",
   "pygments_lexer": "ipython3",
   "version": "3.7.3"
  }
 },
 "nbformat": 4,
 "nbformat_minor": 4
}
