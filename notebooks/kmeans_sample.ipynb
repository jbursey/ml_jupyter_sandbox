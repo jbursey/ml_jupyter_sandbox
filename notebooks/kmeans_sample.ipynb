{
 "cells": [
  {
   "cell_type": "code",
   "execution_count": 1,
   "metadata": {},
   "outputs": [],
   "source": [
    "import numpy as np\n",
    "import pandas as pd\n",
    "import matplotlib.pyplot as plt"
   ]
  },
  {
   "cell_type": "code",
   "execution_count": 3,
   "metadata": {},
   "outputs": [],
   "source": [
    "df = pd.read_csv(\"sample_k_means_data_3d_3groups.csv\")"
   ]
  },
  {
   "cell_type": "code",
   "execution_count": 4,
   "metadata": {},
   "outputs": [
    {
     "data": {
      "text/html": [
       "<div>\n",
       "<style scoped>\n",
       "    .dataframe tbody tr th:only-of-type {\n",
       "        vertical-align: middle;\n",
       "    }\n",
       "\n",
       "    .dataframe tbody tr th {\n",
       "        vertical-align: top;\n",
       "    }\n",
       "\n",
       "    .dataframe thead th {\n",
       "        text-align: right;\n",
       "    }\n",
       "</style>\n",
       "<table border=\"1\" class=\"dataframe\">\n",
       "  <thead>\n",
       "    <tr style=\"text-align: right;\">\n",
       "      <th></th>\n",
       "      <th>Age</th>\n",
       "      <th>Salary</th>\n",
       "      <th>Debt</th>\n",
       "      <th>DO_NOT_USE</th>\n",
       "    </tr>\n",
       "  </thead>\n",
       "  <tbody>\n",
       "    <tr>\n",
       "      <td>0</td>\n",
       "      <td>29</td>\n",
       "      <td>56159</td>\n",
       "      <td>69826</td>\n",
       "      <td>A</td>\n",
       "    </tr>\n",
       "    <tr>\n",
       "      <td>1</td>\n",
       "      <td>21</td>\n",
       "      <td>63335</td>\n",
       "      <td>99249</td>\n",
       "      <td>A</td>\n",
       "    </tr>\n",
       "    <tr>\n",
       "      <td>2</td>\n",
       "      <td>22</td>\n",
       "      <td>66754</td>\n",
       "      <td>81579</td>\n",
       "      <td>A</td>\n",
       "    </tr>\n",
       "    <tr>\n",
       "      <td>3</td>\n",
       "      <td>20</td>\n",
       "      <td>52114</td>\n",
       "      <td>98375</td>\n",
       "      <td>A</td>\n",
       "    </tr>\n",
       "    <tr>\n",
       "      <td>4</td>\n",
       "      <td>20</td>\n",
       "      <td>58947</td>\n",
       "      <td>76358</td>\n",
       "      <td>A</td>\n",
       "    </tr>\n",
       "  </tbody>\n",
       "</table>\n",
       "</div>"
      ],
      "text/plain": [
       "   Age  Salary   Debt DO_NOT_USE\n",
       "0   29   56159  69826          A\n",
       "1   21   63335  99249          A\n",
       "2   22   66754  81579          A\n",
       "3   20   52114  98375          A\n",
       "4   20   58947  76358          A"
      ]
     },
     "execution_count": 4,
     "metadata": {},
     "output_type": "execute_result"
    }
   ],
   "source": [
    "df.head()"
   ]
  },
  {
   "cell_type": "code",
   "execution_count": 5,
   "metadata": {},
   "outputs": [],
   "source": [
    "cluster_data = df.iloc[:,0:3]"
   ]
  },
  {
   "cell_type": "code",
   "execution_count": 6,
   "metadata": {},
   "outputs": [
    {
     "data": {
      "text/html": [
       "<div>\n",
       "<style scoped>\n",
       "    .dataframe tbody tr th:only-of-type {\n",
       "        vertical-align: middle;\n",
       "    }\n",
       "\n",
       "    .dataframe tbody tr th {\n",
       "        vertical-align: top;\n",
       "    }\n",
       "\n",
       "    .dataframe thead th {\n",
       "        text-align: right;\n",
       "    }\n",
       "</style>\n",
       "<table border=\"1\" class=\"dataframe\">\n",
       "  <thead>\n",
       "    <tr style=\"text-align: right;\">\n",
       "      <th></th>\n",
       "      <th>Age</th>\n",
       "      <th>Salary</th>\n",
       "      <th>Debt</th>\n",
       "    </tr>\n",
       "  </thead>\n",
       "  <tbody>\n",
       "    <tr>\n",
       "      <td>0</td>\n",
       "      <td>29</td>\n",
       "      <td>56159</td>\n",
       "      <td>69826</td>\n",
       "    </tr>\n",
       "    <tr>\n",
       "      <td>1</td>\n",
       "      <td>21</td>\n",
       "      <td>63335</td>\n",
       "      <td>99249</td>\n",
       "    </tr>\n",
       "    <tr>\n",
       "      <td>2</td>\n",
       "      <td>22</td>\n",
       "      <td>66754</td>\n",
       "      <td>81579</td>\n",
       "    </tr>\n",
       "    <tr>\n",
       "      <td>3</td>\n",
       "      <td>20</td>\n",
       "      <td>52114</td>\n",
       "      <td>98375</td>\n",
       "    </tr>\n",
       "    <tr>\n",
       "      <td>4</td>\n",
       "      <td>20</td>\n",
       "      <td>58947</td>\n",
       "      <td>76358</td>\n",
       "    </tr>\n",
       "  </tbody>\n",
       "</table>\n",
       "</div>"
      ],
      "text/plain": [
       "   Age  Salary   Debt\n",
       "0   29   56159  69826\n",
       "1   21   63335  99249\n",
       "2   22   66754  81579\n",
       "3   20   52114  98375\n",
       "4   20   58947  76358"
      ]
     },
     "execution_count": 6,
     "metadata": {},
     "output_type": "execute_result"
    }
   ],
   "source": [
    "cluster_data.head()"
   ]
  },
  {
   "cell_type": "code",
   "execution_count": 7,
   "metadata": {},
   "outputs": [],
   "source": [
    "cluster_data = cluster_data.to_numpy()"
   ]
  },
  {
   "cell_type": "code",
   "execution_count": 31,
   "metadata": {},
   "outputs": [],
   "source": [
    "def kmeans(data, k, iters = 10):\n",
    "    # create k random centroids\n",
    "    centroids = [];\n",
    "    for i in range(k):\n",
    "        #centroids.append(np.random.rand(1, data.shape[1]))\n",
    "        centroids.append(get_random_row(data));\n",
    "    \n",
    "    centroids = np.array(centroids)\n",
    "    print(\"centroids\", centroids)\n",
    "        \n",
    "    # create labels for the dataset initially\n",
    "    labels = np.array([]);        \n",
    "    labels = np.resize(labels, data.shape[0])\n",
    "    print(labels)\n",
    "    \n",
    "    # assign labels\n",
    "    assign_labels(data, labels, centroids)\n",
    "    #print(labels)\n",
    "    \n",
    "    index = 0;\n",
    "    while index < iters:\n",
    "        \n",
    "        update_centroids(data, labels, centroids)\n",
    "        \n",
    "        assign_labels(data, labels, centroids)\n",
    "        \n",
    "        print(\"centroids\", centroids)\n",
    "        \n",
    "        index = index + 1\n",
    "    \n",
    "    print(\"final labels\", labels)\n",
    "    labels_df = pd.DataFrame(labels)\n",
    "    labels_df.to_csv(\"sample_k_means_data_lable_output.csv\", index=False)\n",
    "\n",
    "def assign_labels(data, labels, centroids):\n",
    "    # for all rows in data, find min distance to centroids\n",
    "    for i, row in enumerate(data):\n",
    "        min_distance = 999999999;\n",
    "        #print(\"row\", row)\n",
    "        for j, centroid in enumerate(centroids):            \n",
    "            #print(\"centroid\", centroid)\n",
    "            delta = row - centroid\n",
    "            #print(\"delta\", delta)\n",
    "            delta_squared = delta * delta\n",
    "            #print(\"delta_squared\", delta_squared)            \n",
    "            distance = delta_squared.sum()\n",
    "            distance = np.sqrt(distance);\n",
    "            #print(\"distance\", distance)            \n",
    "            if(distance < min_distance):\n",
    "                min_distance = distance\n",
    "                labels[i] = j\n",
    "            \n",
    "    return;\n",
    "\n",
    "def update_centroids(data, labels, centroids):        \n",
    "    # for all labels get data at row i and keep sum    \n",
    "    centroids_tmp = np.array([]);\n",
    "    centroids_tmp = np.resize(centroids_tmp, centroids.shape)    \n",
    "    \n",
    "    centroid_counts = np.array([])\n",
    "    centroid_counts = np.resize(centroid_counts, centroids.shape[0])\n",
    "    \n",
    "    \n",
    "    \n",
    "    for i, label in enumerate(labels):\n",
    "        row = data[i]        \n",
    "        centroids_tmp[label.astype(int)] += row\n",
    "        centroid_counts[label.astype(int)] += 1\n",
    "    \n",
    "    \n",
    "    \n",
    "    for i, count in enumerate(centroid_counts):\n",
    "        centroids[i] = centroids_tmp[i] / (count * 1.0);\n",
    "        \n",
    "    \n",
    "    return\n",
    "\n",
    "def get_random_row(data):\n",
    "    index = (np.random.rand() * 1000000) % data.shape[0];   \n",
    "    index = np.floor(index)\n",
    "    index = int(index);\n",
    "    \n",
    "    return data[index,:];\n",
    "    "
   ]
  },
  {
   "cell_type": "code",
   "execution_count": 33,
   "metadata": {},
   "outputs": [
    {
     "name": "stdout",
     "output_type": "stream",
     "text": [
      "centroids [[    86 146375    473]\n",
      " [    23  63544  53978]\n",
      " [    41  84130  11125]]\n",
      "[0. 0. 0. 0. 0. 0. 0. 0. 0. 0. 0. 0. 0. 0. 0. 0. 0. 0. 0. 0. 0. 0. 0. 0.\n",
      " 0. 0. 0. 0. 0. 0. 0. 0. 0. 0. 0. 0. 0. 0. 0. 0. 0.]\n",
      "centroids [[    76 143261    606]\n",
      " [    27  62562  72442]\n",
      " [    45  83685  16180]]\n",
      "centroids [[    76 143261    606]\n",
      " [    24  57246  78636]\n",
      " [    45  85062  25127]]\n",
      "centroids [[    76 143261    606]\n",
      " [    24  57246  78636]\n",
      " [    45  85062  25127]]\n",
      "centroids [[    76 143261    606]\n",
      " [    24  57246  78636]\n",
      " [    45  85062  25127]]\n",
      "centroids [[    76 143261    606]\n",
      " [    24  57246  78636]\n",
      " [    45  85062  25127]]\n",
      "centroids [[    76 143261    606]\n",
      " [    24  57246  78636]\n",
      " [    45  85062  25127]]\n",
      "centroids [[    76 143261    606]\n",
      " [    24  57246  78636]\n",
      " [    45  85062  25127]]\n",
      "centroids [[    76 143261    606]\n",
      " [    24  57246  78636]\n",
      " [    45  85062  25127]]\n",
      "centroids [[    76 143261    606]\n",
      " [    24  57246  78636]\n",
      " [    45  85062  25127]]\n",
      "centroids [[    76 143261    606]\n",
      " [    24  57246  78636]\n",
      " [    45  85062  25127]]\n",
      "final labels [1. 1. 1. 1. 1. 1. 1. 1. 1. 1. 1. 1. 1. 1. 1. 1. 1. 1. 1. 2. 2. 2. 2. 2.\n",
      " 2. 2. 2. 2. 2. 2. 0. 0. 0. 0. 0. 0. 0. 0. 2. 0. 0.]\n"
     ]
    }
   ],
   "source": [
    "kmeans(cluster_data, 3, 10)"
   ]
  },
  {
   "cell_type": "code",
   "execution_count": 23,
   "metadata": {},
   "outputs": [
    {
     "name": "stdout",
     "output_type": "stream",
     "text": [
      "8.0\n"
     ]
    }
   ],
   "source": [
    "get_random_row(cluster_data)"
   ]
  },
  {
   "cell_type": "code",
   "execution_count": null,
   "metadata": {},
   "outputs": [],
   "source": []
  }
 ],
 "metadata": {
  "kernelspec": {
   "display_name": "Python 3",
   "language": "python",
   "name": "python3"
  },
  "language_info": {
   "codemirror_mode": {
    "name": "ipython",
    "version": 3
   },
   "file_extension": ".py",
   "mimetype": "text/x-python",
   "name": "python",
   "nbconvert_exporter": "python",
   "pygments_lexer": "ipython3",
   "version": "3.7.3"
  }
 },
 "nbformat": 4,
 "nbformat_minor": 4
}
